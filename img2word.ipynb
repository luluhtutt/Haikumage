{
  "cells": [
    {
      "cell_type": "code",
      "execution_count": 1,
      "metadata": {
        "colab": {
          "base_uri": "https://localhost:8080/"
        },
        "id": "YXkn4RM6fyMF",
        "outputId": "68ff6fa1-42d8-4458-bacc-64a5303cc431"
      },
      "outputs": [
        {
          "name": "stdout",
          "output_type": "stream",
          "text": [
            "Requirement already satisfied: transformers in /Users/luluhtutt/opt/anaconda3/lib/python3.8/site-packages (4.35.2)\n",
            "Requirement already satisfied: packaging>=20.0 in /Users/luluhtutt/opt/anaconda3/lib/python3.8/site-packages (from transformers) (20.9)\n",
            "Requirement already satisfied: tokenizers<0.19,>=0.14 in /Users/luluhtutt/opt/anaconda3/lib/python3.8/site-packages (from transformers) (0.15.0)\n",
            "Requirement already satisfied: huggingface-hub<1.0,>=0.16.4 in /Users/luluhtutt/opt/anaconda3/lib/python3.8/site-packages (from transformers) (0.19.4)\n",
            "Requirement already satisfied: filelock in /Users/luluhtutt/opt/anaconda3/lib/python3.8/site-packages (from transformers) (3.0.12)\n",
            "Requirement already satisfied: safetensors>=0.3.1 in /Users/luluhtutt/opt/anaconda3/lib/python3.8/site-packages (from transformers) (0.4.0)\n",
            "Requirement already satisfied: tqdm>=4.27 in /Users/luluhtutt/opt/anaconda3/lib/python3.8/site-packages (from transformers) (4.66.1)\n",
            "Requirement already satisfied: pyyaml>=5.1 in /Users/luluhtutt/opt/anaconda3/lib/python3.8/site-packages (from transformers) (5.4.1)\n",
            "Requirement already satisfied: requests in /Users/luluhtutt/opt/anaconda3/lib/python3.8/site-packages (from transformers) (2.25.1)\n",
            "Requirement already satisfied: numpy>=1.17 in /Users/luluhtutt/opt/anaconda3/lib/python3.8/site-packages (from transformers) (1.20.1)\n",
            "Requirement already satisfied: regex!=2019.12.17 in /Users/luluhtutt/opt/anaconda3/lib/python3.8/site-packages (from transformers) (2021.4.4)\n",
            "Requirement already satisfied: typing-extensions>=3.7.4.3 in /Users/luluhtutt/opt/anaconda3/lib/python3.8/site-packages (from huggingface-hub<1.0,>=0.16.4->transformers) (3.7.4.3)\n",
            "Requirement already satisfied: fsspec>=2023.5.0 in /Users/luluhtutt/opt/anaconda3/lib/python3.8/site-packages (from huggingface-hub<1.0,>=0.16.4->transformers) (2023.10.0)\n",
            "Requirement already satisfied: pyparsing>=2.0.2 in /Users/luluhtutt/opt/anaconda3/lib/python3.8/site-packages (from packaging>=20.0->transformers) (2.4.7)\n",
            "Requirement already satisfied: certifi>=2017.4.17 in /Users/luluhtutt/opt/anaconda3/lib/python3.8/site-packages (from requests->transformers) (2022.12.7)\n",
            "Requirement already satisfied: urllib3<1.27,>=1.21.1 in /Users/luluhtutt/opt/anaconda3/lib/python3.8/site-packages (from requests->transformers) (1.26.4)\n",
            "Requirement already satisfied: idna<3,>=2.5 in /Users/luluhtutt/opt/anaconda3/lib/python3.8/site-packages (from requests->transformers) (2.10)\n",
            "Requirement already satisfied: chardet<5,>=3.0.2 in /Users/luluhtutt/opt/anaconda3/lib/python3.8/site-packages (from requests->transformers) (4.0.0)\n",
            "Requirement already satisfied: transformers in /Users/luluhtutt/opt/anaconda3/lib/python3.8/site-packages (4.35.2)\n",
            "Requirement already satisfied: torch in /Users/luluhtutt/opt/anaconda3/lib/python3.8/site-packages (2.0.0)\n",
            "Requirement already satisfied: tokenizers<0.19,>=0.14 in /Users/luluhtutt/opt/anaconda3/lib/python3.8/site-packages (from transformers) (0.15.0)\n",
            "Requirement already satisfied: numpy>=1.17 in /Users/luluhtutt/opt/anaconda3/lib/python3.8/site-packages (from transformers) (1.20.1)\n",
            "Requirement already satisfied: huggingface-hub<1.0,>=0.16.4 in /Users/luluhtutt/opt/anaconda3/lib/python3.8/site-packages (from transformers) (0.19.4)\n",
            "Requirement already satisfied: requests in /Users/luluhtutt/opt/anaconda3/lib/python3.8/site-packages (from transformers) (2.25.1)\n",
            "Requirement already satisfied: tqdm>=4.27 in /Users/luluhtutt/opt/anaconda3/lib/python3.8/site-packages (from transformers) (4.66.1)\n",
            "Requirement already satisfied: packaging>=20.0 in /Users/luluhtutt/opt/anaconda3/lib/python3.8/site-packages (from transformers) (20.9)\n",
            "Requirement already satisfied: filelock in /Users/luluhtutt/opt/anaconda3/lib/python3.8/site-packages (from transformers) (3.0.12)\n",
            "Requirement already satisfied: pyyaml>=5.1 in /Users/luluhtutt/opt/anaconda3/lib/python3.8/site-packages (from transformers) (5.4.1)\n",
            "Requirement already satisfied: safetensors>=0.3.1 in /Users/luluhtutt/opt/anaconda3/lib/python3.8/site-packages (from transformers) (0.4.0)\n",
            "Requirement already satisfied: regex!=2019.12.17 in /Users/luluhtutt/opt/anaconda3/lib/python3.8/site-packages (from transformers) (2021.4.4)\n",
            "Requirement already satisfied: typing-extensions in /Users/luluhtutt/opt/anaconda3/lib/python3.8/site-packages (from torch) (3.7.4.3)\n",
            "Requirement already satisfied: sympy in /Users/luluhtutt/opt/anaconda3/lib/python3.8/site-packages (from torch) (1.8)\n",
            "Requirement already satisfied: networkx in /Users/luluhtutt/opt/anaconda3/lib/python3.8/site-packages (from torch) (2.5)\n",
            "Requirement already satisfied: jinja2 in /Users/luluhtutt/opt/anaconda3/lib/python3.8/site-packages (from torch) (2.11.3)\n",
            "Requirement already satisfied: fsspec>=2023.5.0 in /Users/luluhtutt/opt/anaconda3/lib/python3.8/site-packages (from huggingface-hub<1.0,>=0.16.4->transformers) (2023.10.0)\n",
            "Requirement already satisfied: pyparsing>=2.0.2 in /Users/luluhtutt/opt/anaconda3/lib/python3.8/site-packages (from packaging>=20.0->transformers) (2.4.7)\n",
            "Requirement already satisfied: MarkupSafe>=0.23 in /Users/luluhtutt/opt/anaconda3/lib/python3.8/site-packages (from jinja2->torch) (1.1.1)\n",
            "Requirement already satisfied: decorator>=4.3.0 in /Users/luluhtutt/opt/anaconda3/lib/python3.8/site-packages (from networkx->torch) (5.0.6)\n",
            "Requirement already satisfied: certifi>=2017.4.17 in /Users/luluhtutt/opt/anaconda3/lib/python3.8/site-packages (from requests->transformers) (2022.12.7)\n",
            "Requirement already satisfied: urllib3<1.27,>=1.21.1 in /Users/luluhtutt/opt/anaconda3/lib/python3.8/site-packages (from requests->transformers) (1.26.4)\n",
            "Requirement already satisfied: chardet<5,>=3.0.2 in /Users/luluhtutt/opt/anaconda3/lib/python3.8/site-packages (from requests->transformers) (4.0.0)\n",
            "Requirement already satisfied: idna<3,>=2.5 in /Users/luluhtutt/opt/anaconda3/lib/python3.8/site-packages (from requests->transformers) (2.10)\n",
            "Requirement already satisfied: mpmath>=0.19 in /Users/luluhtutt/opt/anaconda3/lib/python3.8/site-packages (from sympy->torch) (1.2.1)\n",
            "Requirement already satisfied: datasets in /Users/luluhtutt/opt/anaconda3/lib/python3.8/site-packages (2.15.0)\n",
            "Requirement already satisfied: pandas in /Users/luluhtutt/opt/anaconda3/lib/python3.8/site-packages (from datasets) (1.4.2)\n",
            "Requirement already satisfied: multiprocess in /Users/luluhtutt/opt/anaconda3/lib/python3.8/site-packages (from datasets) (0.70.15)\n",
            "Requirement already satisfied: fsspec[http]<=2023.10.0,>=2023.1.0 in /Users/luluhtutt/opt/anaconda3/lib/python3.8/site-packages (from datasets) (2023.10.0)\n",
            "Requirement already satisfied: pyarrow>=8.0.0 in /Users/luluhtutt/opt/anaconda3/lib/python3.8/site-packages (from datasets) (14.0.1)\n",
            "Requirement already satisfied: huggingface-hub>=0.18.0 in /Users/luluhtutt/opt/anaconda3/lib/python3.8/site-packages (from datasets) (0.19.4)\n",
            "Requirement already satisfied: packaging in /Users/luluhtutt/opt/anaconda3/lib/python3.8/site-packages (from datasets) (20.9)\n",
            "Requirement already satisfied: pyarrow-hotfix in /Users/luluhtutt/opt/anaconda3/lib/python3.8/site-packages (from datasets) (0.5)\n",
            "Requirement already satisfied: xxhash in /Users/luluhtutt/opt/anaconda3/lib/python3.8/site-packages (from datasets) (3.4.1)\n",
            "Requirement already satisfied: aiohttp in /Users/luluhtutt/opt/anaconda3/lib/python3.8/site-packages (from datasets) (3.9.0)\n",
            "Requirement already satisfied: pyyaml>=5.1 in /Users/luluhtutt/opt/anaconda3/lib/python3.8/site-packages (from datasets) (5.4.1)\n",
            "Requirement already satisfied: dill<0.3.8,>=0.3.0 in /Users/luluhtutt/opt/anaconda3/lib/python3.8/site-packages (from datasets) (0.3.7)\n",
            "Requirement already satisfied: numpy>=1.17 in /Users/luluhtutt/opt/anaconda3/lib/python3.8/site-packages (from datasets) (1.20.1)\n",
            "Requirement already satisfied: tqdm>=4.62.1 in /Users/luluhtutt/opt/anaconda3/lib/python3.8/site-packages (from datasets) (4.66.1)\n",
            "Requirement already satisfied: requests>=2.19.0 in /Users/luluhtutt/opt/anaconda3/lib/python3.8/site-packages (from datasets) (2.25.1)\n",
            "Requirement already satisfied: yarl<2.0,>=1.0 in /Users/luluhtutt/opt/anaconda3/lib/python3.8/site-packages (from aiohttp->datasets) (1.9.2)\n",
            "Requirement already satisfied: attrs>=17.3.0 in /Users/luluhtutt/opt/anaconda3/lib/python3.8/site-packages (from aiohttp->datasets) (20.3.0)\n",
            "Requirement already satisfied: multidict<7.0,>=4.5 in /Users/luluhtutt/opt/anaconda3/lib/python3.8/site-packages (from aiohttp->datasets) (6.0.4)\n",
            "Requirement already satisfied: frozenlist>=1.1.1 in /Users/luluhtutt/opt/anaconda3/lib/python3.8/site-packages (from aiohttp->datasets) (1.4.0)\n",
            "Requirement already satisfied: async-timeout<5.0,>=4.0 in /Users/luluhtutt/opt/anaconda3/lib/python3.8/site-packages (from aiohttp->datasets) (4.0.3)\n",
            "Requirement already satisfied: aiosignal>=1.1.2 in /Users/luluhtutt/opt/anaconda3/lib/python3.8/site-packages (from aiohttp->datasets) (1.3.1)\n",
            "Requirement already satisfied: filelock in /Users/luluhtutt/opt/anaconda3/lib/python3.8/site-packages (from huggingface-hub>=0.18.0->datasets) (3.0.12)\n",
            "Requirement already satisfied: typing-extensions>=3.7.4.3 in /Users/luluhtutt/opt/anaconda3/lib/python3.8/site-packages (from huggingface-hub>=0.18.0->datasets) (3.7.4.3)\n",
            "Requirement already satisfied: pyparsing>=2.0.2 in /Users/luluhtutt/opt/anaconda3/lib/python3.8/site-packages (from packaging->datasets) (2.4.7)\n",
            "Requirement already satisfied: chardet<5,>=3.0.2 in /Users/luluhtutt/opt/anaconda3/lib/python3.8/site-packages (from requests>=2.19.0->datasets) (4.0.0)\n",
            "Requirement already satisfied: idna<3,>=2.5 in /Users/luluhtutt/opt/anaconda3/lib/python3.8/site-packages (from requests>=2.19.0->datasets) (2.10)\n",
            "Requirement already satisfied: urllib3<1.27,>=1.21.1 in /Users/luluhtutt/opt/anaconda3/lib/python3.8/site-packages (from requests>=2.19.0->datasets) (1.26.4)\n",
            "Requirement already satisfied: certifi>=2017.4.17 in /Users/luluhtutt/opt/anaconda3/lib/python3.8/site-packages (from requests>=2.19.0->datasets) (2022.12.7)\n",
            "Requirement already satisfied: pytz>=2020.1 in /Users/luluhtutt/opt/anaconda3/lib/python3.8/site-packages (from pandas->datasets) (2021.1)\n",
            "Requirement already satisfied: python-dateutil>=2.8.1 in /Users/luluhtutt/opt/anaconda3/lib/python3.8/site-packages (from pandas->datasets) (2.8.1)\n",
            "Requirement already satisfied: six>=1.5 in /Users/luluhtutt/opt/anaconda3/lib/python3.8/site-packages (from python-dateutil>=2.8.1->pandas->datasets) (1.15.0)\n",
            "Requirement already satisfied: evaluate in /Users/luluhtutt/opt/anaconda3/lib/python3.8/site-packages (0.4.1)\n",
            "Requirement already satisfied: tqdm>=4.62.1 in /Users/luluhtutt/opt/anaconda3/lib/python3.8/site-packages (from evaluate) (4.66.1)\n",
            "Requirement already satisfied: requests>=2.19.0 in /Users/luluhtutt/opt/anaconda3/lib/python3.8/site-packages (from evaluate) (2.25.1)\n",
            "Requirement already satisfied: xxhash in /Users/luluhtutt/opt/anaconda3/lib/python3.8/site-packages (from evaluate) (3.4.1)\n",
            "Requirement already satisfied: multiprocess in /Users/luluhtutt/opt/anaconda3/lib/python3.8/site-packages (from evaluate) (0.70.15)\n",
            "Requirement already satisfied: numpy>=1.17 in /Users/luluhtutt/opt/anaconda3/lib/python3.8/site-packages (from evaluate) (1.20.1)\n",
            "Requirement already satisfied: datasets>=2.0.0 in /Users/luluhtutt/opt/anaconda3/lib/python3.8/site-packages (from evaluate) (2.15.0)\n",
            "Requirement already satisfied: responses<0.19 in /Users/luluhtutt/opt/anaconda3/lib/python3.8/site-packages (from evaluate) (0.18.0)\n",
            "Requirement already satisfied: pandas in /Users/luluhtutt/opt/anaconda3/lib/python3.8/site-packages (from evaluate) (1.4.2)\n",
            "Requirement already satisfied: fsspec[http]>=2021.05.0 in /Users/luluhtutt/opt/anaconda3/lib/python3.8/site-packages (from evaluate) (2023.10.0)\n",
            "Requirement already satisfied: packaging in /Users/luluhtutt/opt/anaconda3/lib/python3.8/site-packages (from evaluate) (20.9)\n",
            "Requirement already satisfied: huggingface-hub>=0.7.0 in /Users/luluhtutt/opt/anaconda3/lib/python3.8/site-packages (from evaluate) (0.19.4)\n",
            "Requirement already satisfied: dill in /Users/luluhtutt/opt/anaconda3/lib/python3.8/site-packages (from evaluate) (0.3.7)\n",
            "Requirement already satisfied: aiohttp in /Users/luluhtutt/opt/anaconda3/lib/python3.8/site-packages (from datasets>=2.0.0->evaluate) (3.9.0)\n",
            "Requirement already satisfied: pyarrow-hotfix in /Users/luluhtutt/opt/anaconda3/lib/python3.8/site-packages (from datasets>=2.0.0->evaluate) (0.5)\n",
            "Requirement already satisfied: pyarrow>=8.0.0 in /Users/luluhtutt/opt/anaconda3/lib/python3.8/site-packages (from datasets>=2.0.0->evaluate) (14.0.1)\n",
            "Requirement already satisfied: pyyaml>=5.1 in /Users/luluhtutt/opt/anaconda3/lib/python3.8/site-packages (from datasets>=2.0.0->evaluate) (5.4.1)\n",
            "Requirement already satisfied: typing-extensions>=3.7.4.3 in /Users/luluhtutt/opt/anaconda3/lib/python3.8/site-packages (from huggingface-hub>=0.7.0->evaluate) (3.7.4.3)\n",
            "Requirement already satisfied: filelock in /Users/luluhtutt/opt/anaconda3/lib/python3.8/site-packages (from huggingface-hub>=0.7.0->evaluate) (3.0.12)\n",
            "Requirement already satisfied: pyparsing>=2.0.2 in /Users/luluhtutt/opt/anaconda3/lib/python3.8/site-packages (from packaging->evaluate) (2.4.7)\n",
            "Requirement already satisfied: certifi>=2017.4.17 in /Users/luluhtutt/opt/anaconda3/lib/python3.8/site-packages (from requests>=2.19.0->evaluate) (2022.12.7)\n",
            "Requirement already satisfied: idna<3,>=2.5 in /Users/luluhtutt/opt/anaconda3/lib/python3.8/site-packages (from requests>=2.19.0->evaluate) (2.10)\n",
            "Requirement already satisfied: chardet<5,>=3.0.2 in /Users/luluhtutt/opt/anaconda3/lib/python3.8/site-packages (from requests>=2.19.0->evaluate) (4.0.0)\n",
            "Requirement already satisfied: urllib3<1.27,>=1.21.1 in /Users/luluhtutt/opt/anaconda3/lib/python3.8/site-packages (from requests>=2.19.0->evaluate) (1.26.4)\n",
            "Requirement already satisfied: pytz>=2020.1 in /Users/luluhtutt/opt/anaconda3/lib/python3.8/site-packages (from pandas->evaluate) (2021.1)\n",
            "Requirement already satisfied: python-dateutil>=2.8.1 in /Users/luluhtutt/opt/anaconda3/lib/python3.8/site-packages (from pandas->evaluate) (2.8.1)\n",
            "Requirement already satisfied: frozenlist>=1.1.1 in /Users/luluhtutt/opt/anaconda3/lib/python3.8/site-packages (from aiohttp->datasets>=2.0.0->evaluate) (1.4.0)\n",
            "Requirement already satisfied: aiosignal>=1.1.2 in /Users/luluhtutt/opt/anaconda3/lib/python3.8/site-packages (from aiohttp->datasets>=2.0.0->evaluate) (1.3.1)\n",
            "Requirement already satisfied: async-timeout<5.0,>=4.0 in /Users/luluhtutt/opt/anaconda3/lib/python3.8/site-packages (from aiohttp->datasets>=2.0.0->evaluate) (4.0.3)\n",
            "Requirement already satisfied: yarl<2.0,>=1.0 in /Users/luluhtutt/opt/anaconda3/lib/python3.8/site-packages (from aiohttp->datasets>=2.0.0->evaluate) (1.9.2)\n",
            "Requirement already satisfied: attrs>=17.3.0 in /Users/luluhtutt/opt/anaconda3/lib/python3.8/site-packages (from aiohttp->datasets>=2.0.0->evaluate) (20.3.0)\n",
            "Requirement already satisfied: multidict<7.0,>=4.5 in /Users/luluhtutt/opt/anaconda3/lib/python3.8/site-packages (from aiohttp->datasets>=2.0.0->evaluate) (6.0.4)\n",
            "Requirement already satisfied: six>=1.5 in /Users/luluhtutt/opt/anaconda3/lib/python3.8/site-packages (from python-dateutil>=2.8.1->pandas->evaluate) (1.15.0)\n"
          ]
        }
      ],
      "source": [
        "!pip install transformers\n",
        "!pip install transformers torch\n",
        "!pip install datasets\n",
        "!pip install evaluate\n",
        "\n",
        "import requests\n",
        "import os\n",
        "import numpy as np # linear algebra\n",
        "import pandas as pd # data processing, CSV file I/O (e.g. pd.read_csv)\n",
        "\n",
        "from PIL import Image\n",
        "from transformers import AutoProcessor, AutoModelForSeq2SeqLM, AutoModelForVision2Seq"
      ]
    },
    {
      "cell_type": "code",
      "execution_count": 2,
      "metadata": {},
      "outputs": [
        {
          "name": "stderr",
          "output_type": "stream",
          "text": [
            "Special tokens have been added in the vocabulary, make sure the associated word embeddings are fine-tuned or trained.\n"
          ]
        }
      ],
      "source": [
        "# img2word model\n",
        "name = \"microsoft/kosmos-2-patch14-224\"\n",
        "\n",
        "model = AutoModelForVision2Seq.from_pretrained(name)\n",
        "processor = AutoProcessor.from_pretrained(name)"
      ]
    },
    {
      "cell_type": "code",
      "execution_count": 7,
      "metadata": {
        "id": "1XUccKWhoYtN"
      },
      "outputs": [
        {
          "name": "stdout",
          "output_type": "stream",
          "text": [
            "<grounding> An image of<phrase> a snowman</phrase><object><patch_index_0044><patch_index_0863></object> warming himself by<phrase> a fire</phrase><object><patch_index_0038><patch_index_0879></object>.\n",
            "An image of a snowman warming himself by a fire.\n",
            "[('a snowman', (12, 21), [(0.390625, 0.046875, 0.984375, 0.828125)]), ('a fire', (41, 47), [(0.203125, 0.046875, 0.484375, 0.859375)])]\n"
          ]
        }
      ],
      "source": [
        "prompt = \"<grounding>An image of\"\n",
        "\n",
        "url = \"https://huggingface.co/microsoft/kosmos-2-patch14-224/resolve/main/snowman.png\"\n",
        "image = Image.open(requests.get(url, stream=True).raw)\n",
        "\n",
        "# The original Kosmos-2 demo saves the image first then reload it. For some images, this will give slightly different image input and change the generation outputs.\n",
        "image.save(\"data/new_image.jpg\")\n",
        "image = Image.open(\"data/new_image.jpg\")\n",
        "\n",
        "inputs = processor(text=prompt, images=image, return_tensors=\"pt\")\n",
        "\n",
        "generated_ids = model.generate(\n",
        "    pixel_values=inputs[\"pixel_values\"],\n",
        "    input_ids=inputs[\"input_ids\"],\n",
        "    attention_mask=inputs[\"attention_mask\"],\n",
        "    image_embeds=None,\n",
        "    image_embeds_position_mask=inputs[\"image_embeds_position_mask\"],\n",
        "    use_cache=True,\n",
        "    max_new_tokens=128,\n",
        ")\n",
        "generated_text = processor.batch_decode(generated_ids, skip_special_tokens=True)[0]\n",
        "\n",
        "# Specify `cleanup_and_extract=False` in order to see the raw model generation.\n",
        "processed_text = processor.post_process_generation(generated_text, cleanup_and_extract=False)\n",
        "\n",
        "print(processed_text)\n",
        "# `<grounding> An image of<phrase> a snowman</phrase><object><patch_index_0044><patch_index_0863></object> warming himself by<phrase> a fire</phrase><object><patch_index_0005><patch_index_0911></object>.`\n",
        "\n",
        "# By default, the generated  text is cleanup and the entities are extracted.\n",
        "processed_text, entities = processor.post_process_generation(generated_text)\n",
        "\n",
        "print(processed_text)\n",
        "# `An image of a snowman warming himself by a fire.`\n",
        "\n",
        "print(entities)\n",
        "# `[('a snowman', (12, 21), [(0.390625, 0.046875, 0.984375, 0.828125)]), ('a fire', (41, 47), [(0.171875, 0.015625, 0.484375, 0.890625)])]`\n"
      ]
    },
    {
      "cell_type": "code",
      "execution_count": 6,
      "metadata": {},
      "outputs": [
        {
          "name": "stdout",
          "output_type": "stream",
          "text": [
            "<grounding> An image of<phrase> a snail on a leaf</phrase><object><patch_index_0066><patch_index_0954></object>\n",
            "An image of a snail on a leaf\n",
            "[('a snail on a leaf', (12, 29), [(0.078125, 0.078125, 0.828125, 0.921875)])]\n"
          ]
        }
      ],
      "source": [
        "prompt = \"<grounding>An image of\"\n",
        "\n",
        "# url = \"https://huggingface.co/microsoft/kosmos-2-patch14-224/resolve/main/snowman.png\"\n",
        "# image = Image.open(requests.get(url, stream=True).raw)\n",
        "\n",
        "# The original Kosmos-2 demo saves the image first then reload it. For some images, this will give slightly different image input and change the generation outputs.\n",
        "# image.save(\"new_image.jpg\")\n",
        "# image = Image.open(\"new_image.jpg\")\n",
        "\n",
        "image = Image.open(\"data/snail.jpeg\")\n",
        "\n",
        "inputs = processor(text=prompt, images=image, return_tensors=\"pt\")\n",
        "\n",
        "generated_ids = model.generate(\n",
        "    pixel_values=inputs[\"pixel_values\"],\n",
        "    input_ids=inputs[\"input_ids\"],\n",
        "    attention_mask=inputs[\"attention_mask\"],\n",
        "    image_embeds=None,\n",
        "    image_embeds_position_mask=inputs[\"image_embeds_position_mask\"],\n",
        "    use_cache=True,\n",
        "    max_new_tokens=128,\n",
        ")\n",
        "generated_text = processor.batch_decode(generated_ids, skip_special_tokens=True)[0]\n",
        "\n",
        "# Specify `cleanup_and_extract=False` in order to see the raw model generation.\n",
        "processed_text = processor.post_process_generation(generated_text, cleanup_and_extract=False)\n",
        "\n",
        "print(processed_text)\n",
        "# <grounding> An image of<phrase> a snail on a leaf</phrase><object><patch_index_0066><patch_index_0954></object>\n",
        "\n",
        "# By default, the generated  text is cleanup and the entities are extracted.\n",
        "processed_text, entities = processor.post_process_generation(generated_text)\n",
        "\n",
        "print(processed_text)\n",
        "# An image of a snail on a leaf\n",
        "\n",
        "print(entities)\n",
        "# [('a snail on a leaf', (12, 29), [(0.078125, 0.078125, 0.828125, 0.921875)])]"
      ]
    },
    {
      "cell_type": "code",
      "execution_count": 3,
      "metadata": {},
      "outputs": [
        {
          "name": "stdout",
          "output_type": "stream",
          "text": [
            "<grounding> An image of<phrase> a piglet in a field</phrase><object><patch_index_0038><patch_index_0825></object>\n",
            "An image of a piglet in a field\n",
            "[('a piglet in a field', (12, 31), [(0.203125, 0.046875, 0.796875, 0.796875)])]\n"
          ]
        }
      ],
      "source": [
        "prompt = \"<grounding>An image of\"\n",
        "\n",
        "# url = \"https://huggingface.co/microsoft/kosmos-2-patch14-224/resolve/main/snowman.png\"\n",
        "# image = Image.open(requests.get(url, stream=True).raw)\n",
        "\n",
        "# The original Kosmos-2 demo saves the image first then reload it. For some images, this will give slightly different image input and change the generation outputs.\n",
        "# image.save(\"new_image.jpg\")\n",
        "# image = Image.open(\"new_image.jpg\")\n",
        "\n",
        "image = Image.open(\"data/pig.jpeg\")\n",
        "\n",
        "inputs = processor(text=prompt, images=image, return_tensors=\"pt\")\n",
        "\n",
        "generated_ids = model.generate(\n",
        "    pixel_values=inputs[\"pixel_values\"],\n",
        "    input_ids=inputs[\"input_ids\"],\n",
        "    attention_mask=inputs[\"attention_mask\"],\n",
        "    image_embeds=None,\n",
        "    image_embeds_position_mask=inputs[\"image_embeds_position_mask\"],\n",
        "    use_cache=True,\n",
        "    max_new_tokens=128,\n",
        ")\n",
        "generated_text = processor.batch_decode(generated_ids, skip_special_tokens=True)[0]\n",
        "\n",
        "# Specify `cleanup_and_extract=False` in order to see the raw model generation.\n",
        "processed_text = processor.post_process_generation(generated_text, cleanup_and_extract=False)\n",
        "\n",
        "print(processed_text)\n",
        "# <grounding> An image of<phrase> a snail on a leaf</phrase><object><patch_index_0066><patch_index_0954></object>\n",
        "\n",
        "# By default, the generated  text is cleanup and the entities are extracted.\n",
        "processed_text, entities = processor.post_process_generation(generated_text)\n",
        "\n",
        "print(processed_text)\n",
        "# An image of a snail on a leaf\n",
        "\n",
        "print(entities)\n",
        "# [('a snail on a leaf', (12, 29), [(0.078125, 0.078125, 0.828125, 0.921875)])]"
      ]
    },
    {
      "cell_type": "code",
      "execution_count": 4,
      "metadata": {},
      "outputs": [
        {
          "name": "stdout",
          "output_type": "stream",
          "text": [
            "a piglet in a field\n"
          ]
        }
      ],
      "source": [
        "# getting phrase to pass into word2haiku\n",
        "print(entities[0][0])"
      ]
    }
  ],
  "metadata": {
    "accelerator": "GPU",
    "colab": {
      "gpuType": "T4",
      "provenance": []
    },
    "kernelspec": {
      "display_name": "Python 3",
      "name": "python3"
    },
    "language_info": {
      "codemirror_mode": {
        "name": "ipython",
        "version": 3
      },
      "file_extension": ".py",
      "mimetype": "text/x-python",
      "name": "python",
      "nbconvert_exporter": "python",
      "pygments_lexer": "ipython3",
      "version": "3.8.8"
    }
  },
  "nbformat": 4,
  "nbformat_minor": 0
}
