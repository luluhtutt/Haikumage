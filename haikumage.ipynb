{
 "cells": [
  {
   "cell_type": "markdown",
   "metadata": {},
   "source": [
    "<h2>Install & import required packages<h2>"
   ]
  },
  {
   "cell_type": "code",
   "execution_count": 1,
   "id": "0e889c31",
   "metadata": {
    "_cell_guid": "b1076dfc-b9ad-4769-8c92-a6c4dae69d19",
    "_uuid": "8f2839f25d086af736a60e9eeb907d3b93b6e0e5",
    "execution": {
     "iopub.execute_input": "2023-10-06T19:44:57.544546Z",
     "iopub.status.busy": "2023-10-06T19:44:57.543912Z",
     "iopub.status.idle": "2023-10-06T19:44:57.994288Z",
     "shell.execute_reply": "2023-10-06T19:44:57.993085Z"
    },
    "papermill": {
     "duration": 0.457519,
     "end_time": "2023-10-06T19:44:57.997181",
     "exception": false,
     "start_time": "2023-10-06T19:44:57.539662",
     "status": "completed"
    },
    "tags": []
   },
   "outputs": [
    {
     "name": "stdout",
     "output_type": "stream",
     "text": [
      "Requirement already satisfied: transformers in /Users/luluhtutt/opt/anaconda3/lib/python3.8/site-packages (4.35.2)\n",
      "Requirement already satisfied: packaging>=20.0 in /Users/luluhtutt/opt/anaconda3/lib/python3.8/site-packages (from transformers) (20.9)\n",
      "Requirement already satisfied: filelock in /Users/luluhtutt/opt/anaconda3/lib/python3.8/site-packages (from transformers) (3.0.12)\n",
      "Requirement already satisfied: tqdm>=4.27 in /Users/luluhtutt/opt/anaconda3/lib/python3.8/site-packages (from transformers) (4.66.1)\n",
      "Requirement already satisfied: numpy>=1.17 in /Users/luluhtutt/opt/anaconda3/lib/python3.8/site-packages (from transformers) (1.20.1)\n",
      "Requirement already satisfied: regex!=2019.12.17 in /Users/luluhtutt/opt/anaconda3/lib/python3.8/site-packages (from transformers) (2021.4.4)\n",
      "Requirement already satisfied: tokenizers<0.19,>=0.14 in /Users/luluhtutt/opt/anaconda3/lib/python3.8/site-packages (from transformers) (0.15.0)\n",
      "Requirement already satisfied: huggingface-hub<1.0,>=0.16.4 in /Users/luluhtutt/opt/anaconda3/lib/python3.8/site-packages (from transformers) (0.19.4)\n",
      "Requirement already satisfied: safetensors>=0.3.1 in /Users/luluhtutt/opt/anaconda3/lib/python3.8/site-packages (from transformers) (0.4.0)\n",
      "Requirement already satisfied: pyyaml>=5.1 in /Users/luluhtutt/opt/anaconda3/lib/python3.8/site-packages (from transformers) (5.4.1)\n",
      "Requirement already satisfied: requests in /Users/luluhtutt/opt/anaconda3/lib/python3.8/site-packages (from transformers) (2.25.1)\n",
      "Requirement already satisfied: fsspec>=2023.5.0 in /Users/luluhtutt/opt/anaconda3/lib/python3.8/site-packages (from huggingface-hub<1.0,>=0.16.4->transformers) (2023.10.0)\n",
      "Requirement already satisfied: typing-extensions>=3.7.4.3 in /Users/luluhtutt/opt/anaconda3/lib/python3.8/site-packages (from huggingface-hub<1.0,>=0.16.4->transformers) (3.7.4.3)\n",
      "Requirement already satisfied: pyparsing>=2.0.2 in /Users/luluhtutt/opt/anaconda3/lib/python3.8/site-packages (from packaging>=20.0->transformers) (2.4.7)\n",
      "Requirement already satisfied: certifi>=2017.4.17 in /Users/luluhtutt/opt/anaconda3/lib/python3.8/site-packages (from requests->transformers) (2022.12.7)\n",
      "Requirement already satisfied: urllib3<1.27,>=1.21.1 in /Users/luluhtutt/opt/anaconda3/lib/python3.8/site-packages (from requests->transformers) (1.26.4)\n",
      "Requirement already satisfied: idna<3,>=2.5 in /Users/luluhtutt/opt/anaconda3/lib/python3.8/site-packages (from requests->transformers) (2.10)\n",
      "Requirement already satisfied: chardet<5,>=3.0.2 in /Users/luluhtutt/opt/anaconda3/lib/python3.8/site-packages (from requests->transformers) (4.0.0)\n",
      "Requirement already satisfied: transformers in /Users/luluhtutt/opt/anaconda3/lib/python3.8/site-packages (4.35.2)\n",
      "Requirement already satisfied: torch in /Users/luluhtutt/opt/anaconda3/lib/python3.8/site-packages (2.0.0)\n",
      "Requirement already satisfied: requests in /Users/luluhtutt/opt/anaconda3/lib/python3.8/site-packages (from transformers) (2.25.1)\n",
      "Requirement already satisfied: safetensors>=0.3.1 in /Users/luluhtutt/opt/anaconda3/lib/python3.8/site-packages (from transformers) (0.4.0)\n",
      "Requirement already satisfied: pyyaml>=5.1 in /Users/luluhtutt/opt/anaconda3/lib/python3.8/site-packages (from transformers) (5.4.1)\n",
      "Requirement already satisfied: numpy>=1.17 in /Users/luluhtutt/opt/anaconda3/lib/python3.8/site-packages (from transformers) (1.20.1)\n",
      "Requirement already satisfied: packaging>=20.0 in /Users/luluhtutt/opt/anaconda3/lib/python3.8/site-packages (from transformers) (20.9)\n",
      "Requirement already satisfied: tokenizers<0.19,>=0.14 in /Users/luluhtutt/opt/anaconda3/lib/python3.8/site-packages (from transformers) (0.15.0)\n",
      "Requirement already satisfied: huggingface-hub<1.0,>=0.16.4 in /Users/luluhtutt/opt/anaconda3/lib/python3.8/site-packages (from transformers) (0.19.4)\n",
      "Requirement already satisfied: regex!=2019.12.17 in /Users/luluhtutt/opt/anaconda3/lib/python3.8/site-packages (from transformers) (2021.4.4)\n",
      "Requirement already satisfied: tqdm>=4.27 in /Users/luluhtutt/opt/anaconda3/lib/python3.8/site-packages (from transformers) (4.66.1)\n",
      "Requirement already satisfied: filelock in /Users/luluhtutt/opt/anaconda3/lib/python3.8/site-packages (from transformers) (3.0.12)\n",
      "Requirement already satisfied: typing-extensions in /Users/luluhtutt/opt/anaconda3/lib/python3.8/site-packages (from torch) (3.7.4.3)\n",
      "Requirement already satisfied: sympy in /Users/luluhtutt/opt/anaconda3/lib/python3.8/site-packages (from torch) (1.8)\n",
      "Requirement already satisfied: networkx in /Users/luluhtutt/opt/anaconda3/lib/python3.8/site-packages (from torch) (2.5)\n",
      "Requirement already satisfied: jinja2 in /Users/luluhtutt/opt/anaconda3/lib/python3.8/site-packages (from torch) (2.11.3)\n",
      "Requirement already satisfied: fsspec>=2023.5.0 in /Users/luluhtutt/opt/anaconda3/lib/python3.8/site-packages (from huggingface-hub<1.0,>=0.16.4->transformers) (2023.10.0)\n",
      "Requirement already satisfied: pyparsing>=2.0.2 in /Users/luluhtutt/opt/anaconda3/lib/python3.8/site-packages (from packaging>=20.0->transformers) (2.4.7)\n",
      "Requirement already satisfied: MarkupSafe>=0.23 in /Users/luluhtutt/opt/anaconda3/lib/python3.8/site-packages (from jinja2->torch) (1.1.1)\n",
      "Requirement already satisfied: decorator>=4.3.0 in /Users/luluhtutt/opt/anaconda3/lib/python3.8/site-packages (from networkx->torch) (5.0.6)\n",
      "Requirement already satisfied: urllib3<1.27,>=1.21.1 in /Users/luluhtutt/opt/anaconda3/lib/python3.8/site-packages (from requests->transformers) (1.26.4)\n",
      "Requirement already satisfied: chardet<5,>=3.0.2 in /Users/luluhtutt/opt/anaconda3/lib/python3.8/site-packages (from requests->transformers) (4.0.0)\n",
      "Requirement already satisfied: idna<3,>=2.5 in /Users/luluhtutt/opt/anaconda3/lib/python3.8/site-packages (from requests->transformers) (2.10)\n",
      "Requirement already satisfied: certifi>=2017.4.17 in /Users/luluhtutt/opt/anaconda3/lib/python3.8/site-packages (from requests->transformers) (2022.12.7)\n",
      "Requirement already satisfied: mpmath>=0.19 in /Users/luluhtutt/opt/anaconda3/lib/python3.8/site-packages (from sympy->torch) (1.2.1)\n",
      "Requirement already satisfied: datasets in /Users/luluhtutt/opt/anaconda3/lib/python3.8/site-packages (2.15.0)\n",
      "Requirement already satisfied: dill<0.3.8,>=0.3.0 in /Users/luluhtutt/opt/anaconda3/lib/python3.8/site-packages (from datasets) (0.3.7)\n",
      "Requirement already satisfied: pyyaml>=5.1 in /Users/luluhtutt/opt/anaconda3/lib/python3.8/site-packages (from datasets) (5.4.1)\n",
      "Requirement already satisfied: requests>=2.19.0 in /Users/luluhtutt/opt/anaconda3/lib/python3.8/site-packages (from datasets) (2.25.1)\n",
      "Requirement already satisfied: huggingface-hub>=0.18.0 in /Users/luluhtutt/opt/anaconda3/lib/python3.8/site-packages (from datasets) (0.19.4)\n",
      "Requirement already satisfied: pyarrow>=8.0.0 in /Users/luluhtutt/opt/anaconda3/lib/python3.8/site-packages (from datasets) (14.0.1)\n",
      "Requirement already satisfied: fsspec[http]<=2023.10.0,>=2023.1.0 in /Users/luluhtutt/opt/anaconda3/lib/python3.8/site-packages (from datasets) (2023.10.0)\n",
      "Requirement already satisfied: pyarrow-hotfix in /Users/luluhtutt/opt/anaconda3/lib/python3.8/site-packages (from datasets) (0.5)\n",
      "Requirement already satisfied: packaging in /Users/luluhtutt/opt/anaconda3/lib/python3.8/site-packages (from datasets) (20.9)\n",
      "Requirement already satisfied: multiprocess in /Users/luluhtutt/opt/anaconda3/lib/python3.8/site-packages (from datasets) (0.70.15)\n",
      "Requirement already satisfied: pandas in /Users/luluhtutt/opt/anaconda3/lib/python3.8/site-packages (from datasets) (1.4.2)\n",
      "Requirement already satisfied: numpy>=1.17 in /Users/luluhtutt/opt/anaconda3/lib/python3.8/site-packages (from datasets) (1.20.1)\n",
      "Requirement already satisfied: aiohttp in /Users/luluhtutt/opt/anaconda3/lib/python3.8/site-packages (from datasets) (3.9.0)\n",
      "Requirement already satisfied: tqdm>=4.62.1 in /Users/luluhtutt/opt/anaconda3/lib/python3.8/site-packages (from datasets) (4.66.1)\n",
      "Requirement already satisfied: xxhash in /Users/luluhtutt/opt/anaconda3/lib/python3.8/site-packages (from datasets) (3.4.1)\n",
      "Requirement already satisfied: async-timeout<5.0,>=4.0 in /Users/luluhtutt/opt/anaconda3/lib/python3.8/site-packages (from aiohttp->datasets) (4.0.3)\n",
      "Requirement already satisfied: yarl<2.0,>=1.0 in /Users/luluhtutt/opt/anaconda3/lib/python3.8/site-packages (from aiohttp->datasets) (1.9.2)\n",
      "Requirement already satisfied: aiosignal>=1.1.2 in /Users/luluhtutt/opt/anaconda3/lib/python3.8/site-packages (from aiohttp->datasets) (1.3.1)\n",
      "Requirement already satisfied: multidict<7.0,>=4.5 in /Users/luluhtutt/opt/anaconda3/lib/python3.8/site-packages (from aiohttp->datasets) (6.0.4)\n",
      "Requirement already satisfied: frozenlist>=1.1.1 in /Users/luluhtutt/opt/anaconda3/lib/python3.8/site-packages (from aiohttp->datasets) (1.4.0)\n",
      "Requirement already satisfied: attrs>=17.3.0 in /Users/luluhtutt/opt/anaconda3/lib/python3.8/site-packages (from aiohttp->datasets) (20.3.0)\n",
      "Requirement already satisfied: filelock in /Users/luluhtutt/opt/anaconda3/lib/python3.8/site-packages (from huggingface-hub>=0.18.0->datasets) (3.0.12)\n",
      "Requirement already satisfied: typing-extensions>=3.7.4.3 in /Users/luluhtutt/opt/anaconda3/lib/python3.8/site-packages (from huggingface-hub>=0.18.0->datasets) (3.7.4.3)\n",
      "Requirement already satisfied: pyparsing>=2.0.2 in /Users/luluhtutt/opt/anaconda3/lib/python3.8/site-packages (from packaging->datasets) (2.4.7)\n",
      "Requirement already satisfied: idna<3,>=2.5 in /Users/luluhtutt/opt/anaconda3/lib/python3.8/site-packages (from requests>=2.19.0->datasets) (2.10)\n",
      "Requirement already satisfied: certifi>=2017.4.17 in /Users/luluhtutt/opt/anaconda3/lib/python3.8/site-packages (from requests>=2.19.0->datasets) (2022.12.7)\n",
      "Requirement already satisfied: urllib3<1.27,>=1.21.1 in /Users/luluhtutt/opt/anaconda3/lib/python3.8/site-packages (from requests>=2.19.0->datasets) (1.26.4)\n",
      "Requirement already satisfied: chardet<5,>=3.0.2 in /Users/luluhtutt/opt/anaconda3/lib/python3.8/site-packages (from requests>=2.19.0->datasets) (4.0.0)\n",
      "Requirement already satisfied: python-dateutil>=2.8.1 in /Users/luluhtutt/opt/anaconda3/lib/python3.8/site-packages (from pandas->datasets) (2.8.1)\n",
      "Requirement already satisfied: pytz>=2020.1 in /Users/luluhtutt/opt/anaconda3/lib/python3.8/site-packages (from pandas->datasets) (2021.1)\n",
      "Requirement already satisfied: six>=1.5 in /Users/luluhtutt/opt/anaconda3/lib/python3.8/site-packages (from python-dateutil>=2.8.1->pandas->datasets) (1.15.0)\n",
      "Requirement already satisfied: evaluate in /Users/luluhtutt/opt/anaconda3/lib/python3.8/site-packages (0.4.1)\n",
      "Requirement already satisfied: numpy>=1.17 in /Users/luluhtutt/opt/anaconda3/lib/python3.8/site-packages (from evaluate) (1.20.1)\n",
      "Requirement already satisfied: dill in /Users/luluhtutt/opt/anaconda3/lib/python3.8/site-packages (from evaluate) (0.3.7)\n",
      "Requirement already satisfied: multiprocess in /Users/luluhtutt/opt/anaconda3/lib/python3.8/site-packages (from evaluate) (0.70.15)\n",
      "Requirement already satisfied: fsspec[http]>=2021.05.0 in /Users/luluhtutt/opt/anaconda3/lib/python3.8/site-packages (from evaluate) (2023.10.0)\n",
      "Requirement already satisfied: requests>=2.19.0 in /Users/luluhtutt/opt/anaconda3/lib/python3.8/site-packages (from evaluate) (2.25.1)\n",
      "Requirement already satisfied: tqdm>=4.62.1 in /Users/luluhtutt/opt/anaconda3/lib/python3.8/site-packages (from evaluate) (4.66.1)\n",
      "Requirement already satisfied: responses<0.19 in /Users/luluhtutt/opt/anaconda3/lib/python3.8/site-packages (from evaluate) (0.18.0)\n",
      "Requirement already satisfied: packaging in /Users/luluhtutt/opt/anaconda3/lib/python3.8/site-packages (from evaluate) (20.9)\n",
      "Requirement already satisfied: huggingface-hub>=0.7.0 in /Users/luluhtutt/opt/anaconda3/lib/python3.8/site-packages (from evaluate) (0.19.4)\n",
      "Requirement already satisfied: datasets>=2.0.0 in /Users/luluhtutt/opt/anaconda3/lib/python3.8/site-packages (from evaluate) (2.15.0)\n",
      "Requirement already satisfied: pandas in /Users/luluhtutt/opt/anaconda3/lib/python3.8/site-packages (from evaluate) (1.4.2)\n",
      "Requirement already satisfied: xxhash in /Users/luluhtutt/opt/anaconda3/lib/python3.8/site-packages (from evaluate) (3.4.1)\n",
      "Requirement already satisfied: aiohttp in /Users/luluhtutt/opt/anaconda3/lib/python3.8/site-packages (from datasets>=2.0.0->evaluate) (3.9.0)\n",
      "Requirement already satisfied: pyarrow-hotfix in /Users/luluhtutt/opt/anaconda3/lib/python3.8/site-packages (from datasets>=2.0.0->evaluate) (0.5)\n",
      "Requirement already satisfied: pyyaml>=5.1 in /Users/luluhtutt/opt/anaconda3/lib/python3.8/site-packages (from datasets>=2.0.0->evaluate) (5.4.1)\n",
      "Requirement already satisfied: pyarrow>=8.0.0 in /Users/luluhtutt/opt/anaconda3/lib/python3.8/site-packages (from datasets>=2.0.0->evaluate) (14.0.1)\n",
      "Requirement already satisfied: typing-extensions>=3.7.4.3 in /Users/luluhtutt/opt/anaconda3/lib/python3.8/site-packages (from huggingface-hub>=0.7.0->evaluate) (3.7.4.3)\n",
      "Requirement already satisfied: filelock in /Users/luluhtutt/opt/anaconda3/lib/python3.8/site-packages (from huggingface-hub>=0.7.0->evaluate) (3.0.12)\n",
      "Requirement already satisfied: pyparsing>=2.0.2 in /Users/luluhtutt/opt/anaconda3/lib/python3.8/site-packages (from packaging->evaluate) (2.4.7)\n",
      "Requirement already satisfied: chardet<5,>=3.0.2 in /Users/luluhtutt/opt/anaconda3/lib/python3.8/site-packages (from requests>=2.19.0->evaluate) (4.0.0)\n",
      "Requirement already satisfied: certifi>=2017.4.17 in /Users/luluhtutt/opt/anaconda3/lib/python3.8/site-packages (from requests>=2.19.0->evaluate) (2022.12.7)\n",
      "Requirement already satisfied: idna<3,>=2.5 in /Users/luluhtutt/opt/anaconda3/lib/python3.8/site-packages (from requests>=2.19.0->evaluate) (2.10)\n",
      "Requirement already satisfied: urllib3<1.27,>=1.21.1 in /Users/luluhtutt/opt/anaconda3/lib/python3.8/site-packages (from requests>=2.19.0->evaluate) (1.26.4)\n",
      "Requirement already satisfied: pytz>=2020.1 in /Users/luluhtutt/opt/anaconda3/lib/python3.8/site-packages (from pandas->evaluate) (2021.1)\n",
      "Requirement already satisfied: python-dateutil>=2.8.1 in /Users/luluhtutt/opt/anaconda3/lib/python3.8/site-packages (from pandas->evaluate) (2.8.1)\n",
      "Requirement already satisfied: aiosignal>=1.1.2 in /Users/luluhtutt/opt/anaconda3/lib/python3.8/site-packages (from aiohttp->datasets>=2.0.0->evaluate) (1.3.1)\n",
      "Requirement already satisfied: frozenlist>=1.1.1 in /Users/luluhtutt/opt/anaconda3/lib/python3.8/site-packages (from aiohttp->datasets>=2.0.0->evaluate) (1.4.0)\n",
      "Requirement already satisfied: attrs>=17.3.0 in /Users/luluhtutt/opt/anaconda3/lib/python3.8/site-packages (from aiohttp->datasets>=2.0.0->evaluate) (20.3.0)\n",
      "Requirement already satisfied: yarl<2.0,>=1.0 in /Users/luluhtutt/opt/anaconda3/lib/python3.8/site-packages (from aiohttp->datasets>=2.0.0->evaluate) (1.9.2)\n",
      "Requirement already satisfied: multidict<7.0,>=4.5 in /Users/luluhtutt/opt/anaconda3/lib/python3.8/site-packages (from aiohttp->datasets>=2.0.0->evaluate) (6.0.4)\n",
      "Requirement already satisfied: async-timeout<5.0,>=4.0 in /Users/luluhtutt/opt/anaconda3/lib/python3.8/site-packages (from aiohttp->datasets>=2.0.0->evaluate) (4.0.3)\n",
      "Requirement already satisfied: six>=1.5 in /Users/luluhtutt/opt/anaconda3/lib/python3.8/site-packages (from python-dateutil>=2.8.1->pandas->evaluate) (1.15.0)\n",
      "Requirement already satisfied: rouge_score in /Users/luluhtutt/opt/anaconda3/lib/python3.8/site-packages (0.1.2)\n",
      "Requirement already satisfied: numpy in /Users/luluhtutt/opt/anaconda3/lib/python3.8/site-packages (from rouge_score) (1.20.1)\n",
      "Requirement already satisfied: nltk in /Users/luluhtutt/opt/anaconda3/lib/python3.8/site-packages (from rouge_score) (3.6.1)\n",
      "Requirement already satisfied: absl-py in /Users/luluhtutt/opt/anaconda3/lib/python3.8/site-packages (from rouge_score) (1.4.0)\n",
      "Requirement already satisfied: six>=1.14.0 in /Users/luluhtutt/opt/anaconda3/lib/python3.8/site-packages (from rouge_score) (1.15.0)\n",
      "Requirement already satisfied: click in /Users/luluhtutt/opt/anaconda3/lib/python3.8/site-packages (from nltk->rouge_score) (7.1.2)\n",
      "Requirement already satisfied: joblib in /Users/luluhtutt/opt/anaconda3/lib/python3.8/site-packages (from nltk->rouge_score) (1.0.1)\n",
      "Requirement already satisfied: regex in /Users/luluhtutt/opt/anaconda3/lib/python3.8/site-packages (from nltk->rouge_score) (2021.4.4)\n",
      "Requirement already satisfied: tqdm in /Users/luluhtutt/opt/anaconda3/lib/python3.8/site-packages (from nltk->rouge_score) (4.66.1)\n"
     ]
    }
   ],
   "source": [
    "!pip install transformers\n",
    "!pip install transformers torch\n",
    "!pip install datasets\n",
    "!pip install evaluate\n",
    "!pip install rouge_score\n",
    "\n",
    "import numpy as np # linear algebra\n",
    "import pandas as pd # data processing, CSV file I/O (e.g. pd.read_csv)\n",
    "import torch\n",
    "import evaluate\n",
    "import nltk\n",
    "\n",
    "from PIL import Image\n",
    "from transformers import AutoProcessor, AutoModelForSeq2SeqLM, AutoModelForVision2Seq, AutoTokenizer, AutoModelForCausalLM, pipeline, DataCollatorForLanguageModeling, Trainer, TrainingArguments\n",
    "from tqdm import tqdm\n",
    "from datasets import load_dataset\n",
    "from nltk.tokenize import SyllableTokenizer\n",
    "from nltk import word_tokenize"
   ]
  },
  {
   "cell_type": "markdown",
   "metadata": {},
   "source": [
    "<h2>Load models<h2>"
   ]
  },
  {
   "cell_type": "code",
   "execution_count": 2,
   "metadata": {},
   "outputs": [
    {
     "data": {
      "application/vnd.jupyter.widget-view+json": {
       "model_id": "a1c05af0d2ab4de9bb332099accb312c",
       "version_major": 2,
       "version_minor": 0
      },
      "text/plain": [
       "model.safetensors:   0%|          | 0.00/6.66G [00:00<?, ?B/s]"
      ]
     },
     "metadata": {},
     "output_type": "display_data"
    },
    {
     "name": "stderr",
     "output_type": "stream",
     "text": [
      "Special tokens have been added in the vocabulary, make sure the associated word embeddings are fine-tuned or trained.\n"
     ]
    }
   ],
   "source": [
    "# img2word model (kosmos) from https://huggingface.co/microsoft/led-base-16384\n",
    "kosmos_name = \"microsoft/kosmos-2-patch14-224\"                    \n",
    "kosmos_model = AutoModelForVision2Seq.from_pretrained(kosmos_name)\n",
    "kosmos_processor = AutoProcessor.from_pretrained(kosmos_name)"
   ]
  },
  {
   "cell_type": "code",
   "execution_count": 3,
   "id": "c116c4d2",
   "metadata": {},
   "outputs": [
    {
     "data": {
      "application/vnd.jupyter.widget-view+json": {
       "model_id": "ea382b9132ca434da3e9c98c2a5e2ba9",
       "version_major": 2,
       "version_minor": 0
      },
      "text/plain": [
       "tokenizer_config.json:   0%|          | 0.00/236 [00:00<?, ?B/s]"
      ]
     },
     "metadata": {},
     "output_type": "display_data"
    },
    {
     "data": {
      "application/vnd.jupyter.widget-view+json": {
       "model_id": "7dd65d7eb772464ea563c43e57d1be54",
       "version_major": 2,
       "version_minor": 0
      },
      "text/plain": [
       "vocab.json:   0%|          | 0.00/798k [00:00<?, ?B/s]"
      ]
     },
     "metadata": {},
     "output_type": "display_data"
    },
    {
     "data": {
      "application/vnd.jupyter.widget-view+json": {
       "model_id": "9cf64270a2454cb2a674ae8d0cc87474",
       "version_major": 2,
       "version_minor": 0
      },
      "text/plain": [
       "merges.txt:   0%|          | 0.00/456k [00:00<?, ?B/s]"
      ]
     },
     "metadata": {},
     "output_type": "display_data"
    },
    {
     "data": {
      "application/vnd.jupyter.widget-view+json": {
       "model_id": "73ac0a8015d84d2ea61cc908a7ded68f",
       "version_major": 2,
       "version_minor": 0
      },
      "text/plain": [
       "tokenizer.json:   0%|          | 0.00/2.11M [00:00<?, ?B/s]"
      ]
     },
     "metadata": {},
     "output_type": "display_data"
    },
    {
     "data": {
      "application/vnd.jupyter.widget-view+json": {
       "model_id": "eabf441a83014cef8e62b3b91c3c8994",
       "version_major": 2,
       "version_minor": 0
      },
      "text/plain": [
       "special_tokens_map.json:   0%|          | 0.00/120 [00:00<?, ?B/s]"
      ]
     },
     "metadata": {},
     "output_type": "display_data"
    },
    {
     "data": {
      "application/vnd.jupyter.widget-view+json": {
       "model_id": "6dce30e1a0474f8597458d8ca0b5e680",
       "version_major": 2,
       "version_minor": 0
      },
      "text/plain": [
       "config.json:   0%|          | 0.00/907 [00:00<?, ?B/s]"
      ]
     },
     "metadata": {},
     "output_type": "display_data"
    },
    {
     "data": {
      "application/vnd.jupyter.widget-view+json": {
       "model_id": "7d071042a7864a95b21e407923c86293",
       "version_major": 2,
       "version_minor": 0
      },
      "text/plain": [
       "model.safetensors:   0%|          | 0.00/510M [00:00<?, ?B/s]"
      ]
     },
     "metadata": {},
     "output_type": "display_data"
    }
   ],
   "source": [
    "### load word to haiku model\n",
    "model_name = \"fabianmmueller/deep-haiku-gpt-2\"\n",
    "\n",
    "syllable_tokenizer = SyllableTokenizer()\n",
    "tokenizer = AutoTokenizer.from_pretrained(model_name)\n",
    "model = AutoModelForCausalLM.from_pretrained(model_name)\n",
    "data_collator = DataCollatorForLanguageModeling(tokenizer = tokenizer, mlm = False, return_tensors = \"pt\")"
   ]
  },
  {
   "cell_type": "markdown",
   "metadata": {},
   "source": [
    "**Image2Word**"
   ]
  },
  {
   "cell_type": "code",
   "execution_count": 6,
   "metadata": {},
   "outputs": [
    {
     "name": "stdout",
     "output_type": "stream",
     "text": [
      "a piglet in a field\n"
     ]
    }
   ],
   "source": [
    "prompt = \"<grounding>An image of\"\n",
    "\n",
    "# User inputted image\n",
    "image = Image.open(\"data/pig.jpeg\")\n",
    "\n",
    "inputs = kosmos_processor(text=prompt, images=image, return_tensors=\"pt\")\n",
    "\n",
    "generated_ids = kosmos_model.generate(\n",
    "    pixel_values=inputs[\"pixel_values\"],\n",
    "    input_ids=inputs[\"input_ids\"],\n",
    "    attention_mask=inputs[\"attention_mask\"],\n",
    "    image_embeds=None,\n",
    "    image_embeds_position_mask=inputs[\"image_embeds_position_mask\"],\n",
    "    use_cache=True,\n",
    "    max_new_tokens=128,\n",
    ")\n",
    "generated_text = kosmos_processor.batch_decode(generated_ids, skip_special_tokens=True)[0]\n",
    "\n",
    "# Specify `cleanup_and_extract=False` in order to see the raw model generation.\n",
    "processed_text = kosmos_processor.post_process_generation(generated_text, cleanup_and_extract=False)\n",
    "\n",
    "# print(processed_text)\n",
    "# `<grounding> An image of<phrase> a snowman</phrase><object><patch_index_0044><patch_index_0863></object> warming himself by<phrase> a fire</phrase><object><patch_index_0005><patch_index_0911></object>.`\n",
    "\n",
    "# By default, the generated  text is cleanup and the entities are extracted.\n",
    "processed_text, entities = kosmos_processor.post_process_generation(generated_text)\n",
    "\n",
    "kosmos_output = entities[0][0]\n",
    "print(kosmos_output)"
   ]
  },
  {
   "cell_type": "markdown",
   "id": "84b4a386",
   "metadata": {},
   "source": [
    "**Word2Haiku**"
   ]
  },
  {
   "cell_type": "code",
   "execution_count": 8,
   "id": "c170f8b8",
   "metadata": {},
   "outputs": [
    {
     "name": "stderr",
     "output_type": "stream",
     "text": [
      "Setting `pad_token_id` to `eos_token_id`:50256 for open-end generation.\n"
     ]
    },
    {
     "name": "stdout",
     "output_type": "stream",
     "text": [
      "urn of snow. / A piglet. / In a lime box.\n"
     ]
    }
   ],
   "source": [
    "### Generating sample outputs with the pretrained model\n",
    "prompt = \"( snowman = \"\n",
    "prompt = \"( \" + kosmos_output + \" = \"\n",
    "\n",
    "pipe = pipeline(\n",
    "    \"text-generation\",\n",
    "    model=model,\n",
    "    tokenizer=tokenizer,\n",
    "    torch_dtype=torch.bfloat16,\n",
    "    device_map=\"auto\",\n",
    ")\n",
    "\n",
    "generator = pipeline('text-generation', model = model_name)\n",
    "\n",
    "result = generator(prompt)\n",
    "\n",
    "### Cleaning results from pretrained model & measure perplexity in comparison to gpt2\n",
    "result_text = result[0]['generated_text']\n",
    "start = result_text.find(\"=\")\n",
    "end = result_text.find(\")\")\n",
    "cleaned_result = result_text[start+1:end].strip()\n",
    "print(cleaned_result)"
   ]
  }
 ],
 "metadata": {
  "kernelspec": {
   "display_name": "Python 3",
   "language": "python",
   "name": "python3"
  },
  "language_info": {
   "codemirror_mode": {
    "name": "ipython",
    "version": 3
   },
   "file_extension": ".py",
   "mimetype": "text/x-python",
   "name": "python",
   "nbconvert_exporter": "python",
   "pygments_lexer": "ipython3",
   "version": "3.8.8"
  },
  "papermill": {
   "default_parameters": {},
   "duration": 4.117594,
   "end_time": "2023-10-06T19:44:58.522329",
   "environment_variables": {},
   "exception": null,
   "input_path": "__notebook__.ipynb",
   "output_path": "__notebook__.ipynb",
   "parameters": {},
   "start_time": "2023-10-06T19:44:54.404735",
   "version": "2.4.0"
  }
 },
 "nbformat": 4,
 "nbformat_minor": 5
}
